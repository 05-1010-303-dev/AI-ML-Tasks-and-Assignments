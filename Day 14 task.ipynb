{
 "cells": [
  {
   "cell_type": "markdown",
   "id": "f56e2569",
   "metadata": {},
   "source": [
    "1.Program to find the sum of digits of a number until the sum is reduced to 1 digit\n",
    "\n",
    "2.Program to find LCM and HCF of two numbers\n",
    "\n",
    "3.Write a program to accept any number n and print the cube of all numbers from 1 to n which are divisible by 3. Rewrite the program using a continue statement.\n",
    "\n",
    "4.Write a program to read roll number and marks of 10 students in 3 subjects. The valid range for roll number is 1000-9999, if the roll number entered is not in this range, the user should be asked to enter again. Calculate total marks of only those students who get more than or equal to 40 marks in each subject. Count the number of students whose total is more than 200. Print the roll number of the students who gets the highest total.\n",
    "\n",
    "5.Write a program to input a number and count the digits in it. Use while loop and the program should work correctly for 0 also.\n",
    "\n",
    "6.Write a program to enter a number and find the reverse of that number. Also display the double of the reverse number. (don’t use string magic)"
   ]
  },
  {
   "cell_type": "code",
   "execution_count": 1,
   "id": "8080b669",
   "metadata": {},
   "outputs": [
    {
     "name": "stdout",
     "output_type": "stream",
     "text": [
      "Enter a number: 888\n",
      "The sum of digits reduced to 1 digit: 6\n"
     ]
    }
   ],
   "source": [
    "def sum_of_digits(num):\n",
    "    while num > 9:\n",
    "        sum_digits = 0\n",
    "        while num > 0:\n",
    "            sum_digits += num % 10\n",
    "            num //= 10\n",
    "        num = sum_digits\n",
    "    return num\n",
    "\n",
    "# Example usage:\n",
    "number = int(input(\"Enter a number: \"))\n",
    "result = sum_of_digits(number)\n",
    "print(f\"The sum of digits reduced to 1 digit: {result}\")"
   ]
  },
  {
   "cell_type": "code",
   "execution_count": 2,
   "id": "fe9ba6d4",
   "metadata": {},
   "outputs": [
    {
     "name": "stdout",
     "output_type": "stream",
     "text": [
      "Enter the first number: 89\n",
      "Enter the second number: 90\n",
      "The GCD of 89 and 90 is: 1\n",
      "The LCM of 89 and 90 is: 8010\n"
     ]
    }
   ],
   "source": [
    "def find_gcd(a, b):\n",
    "    while b != 0:\n",
    "        a, b = b, a % b\n",
    "    return a\n",
    "\n",
    "def find_lcm(a, b):\n",
    "    lcm = (a * b) // find_gcd(a, b)\n",
    "    return lcm\n",
    "\n",
    "# Example usage:\n",
    "num1 = int(input(\"Enter the first number: \"))\n",
    "num2 = int(input(\"Enter the second number: \"))\n",
    "\n",
    "gcd = find_gcd(num1, num2)\n",
    "lcm = find_lcm(num1, num2)\n",
    "\n",
    "print(f\"The GCD of {num1} and {num2} is: {gcd}\")\n",
    "print(f\"The LCM of {num1} and {num2} is: {lcm}\")"
   ]
  },
  {
   "cell_type": "code",
   "execution_count": 3,
   "id": "cbbcae65",
   "metadata": {},
   "outputs": [
    {
     "name": "stdout",
     "output_type": "stream",
     "text": [
      "Enter a number: 89\n",
      "The cube of 3 is: 27\n",
      "The cube of 6 is: 216\n",
      "The cube of 9 is: 729\n",
      "The cube of 12 is: 1728\n",
      "The cube of 15 is: 3375\n",
      "The cube of 18 is: 5832\n",
      "The cube of 21 is: 9261\n",
      "The cube of 24 is: 13824\n",
      "The cube of 27 is: 19683\n",
      "The cube of 30 is: 27000\n",
      "The cube of 33 is: 35937\n",
      "The cube of 36 is: 46656\n",
      "The cube of 39 is: 59319\n",
      "The cube of 42 is: 74088\n",
      "The cube of 45 is: 91125\n",
      "The cube of 48 is: 110592\n",
      "The cube of 51 is: 132651\n",
      "The cube of 54 is: 157464\n",
      "The cube of 57 is: 185193\n",
      "The cube of 60 is: 216000\n",
      "The cube of 63 is: 250047\n",
      "The cube of 66 is: 287496\n",
      "The cube of 69 is: 328509\n",
      "The cube of 72 is: 373248\n",
      "The cube of 75 is: 421875\n",
      "The cube of 78 is: 474552\n",
      "The cube of 81 is: 531441\n",
      "The cube of 84 is: 592704\n",
      "The cube of 87 is: 658503\n",
      "Enter a number: 7\n",
      "The cube of 3 is: 27\n",
      "The cube of 6 is: 216\n"
     ]
    }
   ],
   "source": [
    "# Without continue statement\n",
    "n = int(input(\"Enter a number: \"))\n",
    "for num in range(1, n+1):\n",
    "    if num % 3 == 0:\n",
    "        cube = num ** 3\n",
    "        print(f\"The cube of {num} is: {cube}\")\n",
    "\n",
    "# With continue statement\n",
    "n = int(input(\"Enter a number: \"))\n",
    "for num in range(1, n+1):\n",
    "    if num % 3 != 0:\n",
    "        continue\n",
    "    cube = num ** 3\n",
    "    print(f\"The cube of {num} is: {cube}\")"
   ]
  },
  {
   "cell_type": "code",
   "execution_count": 4,
   "id": "d3070530",
   "metadata": {},
   "outputs": [
    {
     "name": "stdout",
     "output_type": "stream",
     "text": [
      "Enter the roll number: 78\n",
      "Invalid roll number. Enter again.\n",
      "Enter the roll number: 10000\n",
      "Invalid roll number. Enter again.\n",
      "Enter the roll number: 9899\n",
      "Enter marks for subject 1: 90\n",
      "Enter marks for subject 2: 78\n",
      "Enter marks for subject 3: 68\n",
      "Enter the roll number: 65\n",
      "Invalid roll number. Enter again.\n",
      "Enter the roll number: 9876\n",
      "Enter marks for subject 1: 57\n",
      "Enter marks for subject 2: 56\n",
      "Enter marks for subject 3: 56\n",
      "Enter the roll number: 46\n",
      "Invalid roll number. Enter again.\n",
      "Enter the roll number: 8777\n",
      "Enter marks for subject 1: 57\n",
      "Enter marks for subject 2: 46\n",
      "Enter marks for subject 3: 98\n",
      "The number of students with total marks greater than 200: 3\n",
      "The roll number of the student with the highest total marks: 9899\n"
     ]
    }
   ],
   "source": [
    "total_students = 3\n",
    "valid_roll_range = range(1000, 10000)\n",
    "\n",
    "highest_total = 0\n",
    "highest_roll_number = None\n",
    "count_total_greater_than_200 = 0\n",
    "\n",
    "for _ in range(total_students):\n",
    "    while True:\n",
    "        roll_number = int(input(\"Enter the roll number: \"))\n",
    "        if roll_number in valid_roll_range:\n",
    "            break\n",
    "        print(\"Invalid roll number. Enter again.\")\n",
    "\n",
    "    subject1 = int(input(\"Enter marks for subject 1: \"))\n",
    "    subject2 = int(input(\"Enter marks for subject 2: \"))\n",
    "    subject3 = int(input(\"Enter marks for subject 3: \"))\n",
    "\n",
    "    total_marks = subject1 + subject2 + subject3\n",
    "\n",
    "    if subject1 >= 40 and subject2 >= 40 and subject3 >= 40:\n",
    "        count_total_greater_than_200 += 1\n",
    "\n",
    "    if total_marks > highest_total:\n",
    "        highest_total = total_marks\n",
    "        highest_roll_number = roll_number\n",
    "\n",
    "print(f\"The number of students with total marks greater than 200: {count_total_greater_than_200}\")\n",
    "print(f\"The roll number of the student with the highest total marks: {highest_roll_number}\")"
   ]
  },
  {
   "cell_type": "code",
   "execution_count": 5,
   "id": "30b5dc4e",
   "metadata": {},
   "outputs": [
    {
     "name": "stdout",
     "output_type": "stream",
     "text": [
      "Enter a number: 7\n",
      "The number of digits in the given number: 1\n"
     ]
    }
   ],
   "source": [
    "number = int(input(\"Enter a number: \"))\n",
    "count = 0\n",
    "\n",
    "while number != 0:\n",
    "    number //= 10\n",
    "    count += 1\n",
    "\n",
    "print(f\"The number of digits in the given number: {count}\")"
   ]
  },
  {
   "cell_type": "code",
   "execution_count": 6,
   "id": "36d152d3",
   "metadata": {},
   "outputs": [
    {
     "name": "stdout",
     "output_type": "stream",
     "text": [
      "Enter a number: 29865\n",
      "The reverse of 29865: 56892\n",
      "The double of the reverse number: 113784\n"
     ]
    }
   ],
   "source": [
    "number = int(input(\"Enter a number: \"))\n",
    "reverse = 0\n",
    "original_number = number\n",
    "\n",
    "while number != 0:\n",
    "    digit = number % 10\n",
    "    reverse = (reverse * 10) + digit\n",
    "    number //= 10\n",
    "\n",
    "double_of_reverse = reverse * 2\n",
    "\n",
    "print(f\"The reverse of {original_number}: {reverse}\")\n",
    "print(f\"The double of the reverse number: {double_of_reverse}\")"
   ]
  },
  {
   "cell_type": "code",
   "execution_count": null,
   "id": "970d0587",
   "metadata": {},
   "outputs": [],
   "source": []
  }
 ],
 "metadata": {
  "kernelspec": {
   "display_name": "Python 3 (ipykernel)",
   "language": "python",
   "name": "python3"
  },
  "language_info": {
   "codemirror_mode": {
    "name": "ipython",
    "version": 3
   },
   "file_extension": ".py",
   "mimetype": "text/x-python",
   "name": "python",
   "nbconvert_exporter": "python",
   "pygments_lexer": "ipython3",
   "version": "3.10.9"
  }
 },
 "nbformat": 4,
 "nbformat_minor": 5
}
