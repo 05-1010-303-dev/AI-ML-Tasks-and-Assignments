{
 "cells": [
  {
   "cell_type": "markdown",
   "id": "8833ea0f",
   "metadata": {},
   "source": [
    "# 1.Explore split, strip, replace, center, title methods of string data type in python\n",
    "\n",
    "# 2.Explore append, pop, remove, sort methods of list data type\n",
    "\n",
    "# 3.Create 5 real time lists to store some useful information in python eg. Language = [ ‘java’, ‘c’, ‘c++’, ‘ruby’ ]\n",
    "\n",
    "# 4.What is difference between mutable and immutable data types in python .\n",
    "\n",
    "# 5.What are identifiers, list rules of identifiers in python .\n"
   ]
  },
  {
   "cell_type": "code",
   "execution_count": 1,
   "id": "83ace16b",
   "metadata": {},
   "outputs": [
    {
     "name": "stdout",
     "output_type": "stream",
     "text": [
      "['   Hello', ' World!   ']\n",
      "Hello, World!\n",
      "   Hello, World   \n",
      "   Hello, World!   -\n",
      "   Hello, World!   \n"
     ]
    }
   ],
   "source": [
    "# String Methods\n",
    "text = \"   Hello, World!   \"\n",
    "print(text.split(\",\"))      # Output: ['   Hello', ' World!   ']\n",
    "print(text.strip())         # Output: 'Hello, World!'\n",
    "print(text.replace(\"!\", \"\"))# Output: '   Hello, World   '\n",
    "print(text.center(20, \"-\")) # Output: '  Hello, World!   '\n",
    "print(text.title())         # Output: '   Hello, World!   '"
   ]
  },
  {
   "cell_type": "code",
   "execution_count": 2,
   "id": "7ec79400",
   "metadata": {},
   "outputs": [
    {
     "name": "stdout",
     "output_type": "stream",
     "text": [
      "grape\n"
     ]
    }
   ],
   "source": [
    "# List Methods\n",
    "fruits = ['apple', 'banana', 'orange']\n",
    "fruits.append('grape')      # ['apple', 'banana', 'orange', 'grape']\n",
    "print(fruits.pop())         # Output: 'grape'\n",
    "fruits.remove('banana')     # ['apple', 'orange']\n",
    "fruits.sort()               # ['apple', 'orange']"
   ]
  },
  {
   "cell_type": "code",
   "execution_count": 3,
   "id": "22cd9df6",
   "metadata": {},
   "outputs": [],
   "source": [
    "# Example 1: Programming Languages\n",
    "languages = ['Java', 'C', 'C++', 'Ruby']\n",
    "\n",
    "# Example 2: Grocery List\n",
    "groceries = ['Apples', 'Milk', 'Bread', 'Eggs']\n",
    "\n",
    "# Example 3: To-Do List\n",
    "todos = ['Finish homework', 'Pay bills', 'Call a friend']\n",
    "\n",
    "# Example 4: Countries\n",
    "countries = ['USA', 'Germany', 'Australia', 'Japan']\n",
    "\n",
    "# Example 5: Favorite Movies\n",
    "movies = ['The Shawshank Redemption', 'Inception', 'Pulp Fiction']"
   ]
  },
  {
   "cell_type": "markdown",
   "id": "d4bf9c96",
   "metadata": {},
   "source": [
    "Difference between Mutable and Immutable Data Types: Mutable: Mutable data types can be modified or changed after they are created. Examples include lists, sets, and dictionaries. Immutable: Immutable data types cannot be modified once they are created. Examples include strings, numbers, and tuples. Instead of modifying the value directly, a new value is created when an operation is performed on an immutable object.\n",
    "\n",
    "Identifiers: Identifiers are names used to identify variables, functions, classes, modules, or other objects in Python. Rules for identifiers in Python are as follows: Must start with a letter (a-z, A-Z) or an underscore (_). Subsequent characters can be letters, numbers, or underscores. Cannot be a reserved word or a built-in function name. Case-sensitive (e.g., 'myVar' and 'myvar' are different identifiers)."
   ]
  },
  {
   "cell_type": "code",
   "execution_count": null,
   "id": "5fff7216",
   "metadata": {},
   "outputs": [],
   "source": []
  }
 ],
 "metadata": {
  "kernelspec": {
   "display_name": "Python 3 (ipykernel)",
   "language": "python",
   "name": "python3"
  },
  "language_info": {
   "codemirror_mode": {
    "name": "ipython",
    "version": 3
   },
   "file_extension": ".py",
   "mimetype": "text/x-python",
   "name": "python",
   "nbconvert_exporter": "python",
   "pygments_lexer": "ipython3",
   "version": "3.10.9"
  }
 },
 "nbformat": 4,
 "nbformat_minor": 5
}
