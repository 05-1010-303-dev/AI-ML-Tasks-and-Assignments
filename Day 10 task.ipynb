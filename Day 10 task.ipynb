{
 "cells": [
  {
   "cell_type": "markdown",
   "id": "5ab4fb0b",
   "metadata": {},
   "source": [
    "# 1.Python Program to Check Palindrome Number\n",
    "# 2.Python Program to Print all multiples of 3 and 5 in an Interval\n",
    "# 3.Python Program to Find the Factorial of a Number\n",
    "# 4.Python Program to Print the Fibonacci sequence\n",
    "# 5.Python Program to Check Armstrong Number"
   ]
  },
  {
   "cell_type": "code",
   "execution_count": 1,
   "id": "010483e6",
   "metadata": {},
   "outputs": [
    {
     "name": "stdout",
     "output_type": "stream",
     "text": [
      "Enter a number: 56\n",
      "56 is not a palindrome number\n"
     ]
    }
   ],
   "source": [
    "number = int(input(\"Enter a number: \"))\n",
    "temp = number\n",
    "reverse = 0\n",
    "\n",
    "while temp > 0:\n",
    "    remainder = temp % 10\n",
    "    reverse = reverse * 10 + remainder\n",
    "    temp = temp // 10\n",
    "\n",
    "if number == reverse:\n",
    "    print(number, \"is a palindrome number\")\n",
    "else:\n",
    "    print(number, \"is not a palindrome number\")"
   ]
  },
  {
   "cell_type": "code",
   "execution_count": 2,
   "id": "fe6cd3d1",
   "metadata": {},
   "outputs": [
    {
     "name": "stdout",
     "output_type": "stream",
     "text": [
      "Enter the start of the interval: 65\n",
      "Enter the end of the interval: 7\n",
      "Multiples of 3 and 5 in the interval 65 to 7 are:\n"
     ]
    }
   ],
   "source": [
    "start = int(input(\"Enter the start of the interval: \"))\n",
    "end = int(input(\"Enter the end of the interval: \"))\n",
    "\n",
    "print(\"Multiples of 3 and 5 in the interval\", start, \"to\", end, \"are:\")\n",
    "for number in range(start, end + 1):\n",
    "    if number % 3 == 0 and number % 5 == 0:\n",
    "        print(number)"
   ]
  },
  {
   "cell_type": "code",
   "execution_count": 3,
   "id": "d85d68ab",
   "metadata": {},
   "outputs": [
    {
     "name": "stdout",
     "output_type": "stream",
     "text": [
      "Enter a number: 6\n",
      "Factorial of 6 is 720\n"
     ]
    }
   ],
   "source": [
    "number = int(input(\"Enter a number: \"))\n",
    "factorial = 1\n",
    "\n",
    "if number < 0:\n",
    "    print(\"Factorial cannot be found for negative numbers\")\n",
    "elif number == 0:\n",
    "    print(\"Factorial of 0 is 1\")\n",
    "else:\n",
    "    for i in range(1, number + 1):\n",
    "        factorial *= i\n",
    "    print(\"Factorial of\", number, \"is\", factorial)"
   ]
  },
  {
   "cell_type": "code",
   "execution_count": 4,
   "id": "f728f757",
   "metadata": {},
   "outputs": [
    {
     "name": "stdout",
     "output_type": "stream",
     "text": [
      "Enter the number of terms: 7\n",
      "Fibonacci sequence:\n",
      "0\n",
      "1\n",
      "1\n",
      "2\n",
      "3\n",
      "5\n",
      "8\n"
     ]
    }
   ],
   "source": [
    "terms = int(input(\"Enter the number of terms: \"))\n",
    "\n",
    "first_term = 0\n",
    "second_term = 1\n",
    "\n",
    "if terms <= 0:\n",
    "    print(\"Number of terms should be a positive integer\")\n",
    "elif terms == 1:\n",
    "    print(\"Fibonacci sequence:\")\n",
    "    print(first_term)\n",
    "else:\n",
    "    print(\"Fibonacci sequence:\")\n",
    "    print(first_term)\n",
    "    print(second_term)\n",
    "    for i in range(2, terms):\n",
    "        next_term = first_term + second_term\n",
    "        print(next_term)\n",
    "        first_term = second_term\n",
    "        second_term = next_term"
   ]
  },
  {
   "cell_type": "code",
   "execution_count": 5,
   "id": "7409a52b",
   "metadata": {},
   "outputs": [
    {
     "name": "stdout",
     "output_type": "stream",
     "text": [
      "Enter a number: 67\n",
      "67 is not an Armstrong number\n"
     ]
    }
   ],
   "source": [
    "number = int(input(\"Enter a number: \"))\n",
    "temp = number\n",
    "num_digits = len(str(number))\n",
    "sum = 0\n",
    "\n",
    "while temp > 0:\n",
    "    digit = temp % 10\n",
    "    sum += digit ** num_digits\n",
    "    temp //= 10\n",
    "\n",
    "if number == sum:\n",
    "    print(number, \"is an Armstrong number\")\n",
    "else:\n",
    "    print(number, \"is not an Armstrong number\")"
   ]
  },
  {
   "cell_type": "code",
   "execution_count": null,
   "id": "534a90bd",
   "metadata": {},
   "outputs": [],
   "source": []
  }
 ],
 "metadata": {
  "kernelspec": {
   "display_name": "Python 3 (ipykernel)",
   "language": "python",
   "name": "python3"
  },
  "language_info": {
   "codemirror_mode": {
    "name": "ipython",
    "version": 3
   },
   "file_extension": ".py",
   "mimetype": "text/x-python",
   "name": "python",
   "nbconvert_exporter": "python",
   "pygments_lexer": "ipython3",
   "version": "3.10.9"
  }
 },
 "nbformat": 4,
 "nbformat_minor": 5
}
