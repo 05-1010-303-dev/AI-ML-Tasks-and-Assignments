{
 "cells": [
  {
   "cell_type": "markdown",
   "id": "73685024",
   "metadata": {},
   "source": [
    "# 1.What are the two values of the Boolean data type? How do you write them?\n",
    "# 2.What are the three Boolean operators?\n",
    "# 3.Write out the truth tables of each Boolean operator (that is, every possible combination of Boolean values for the operator and what they evaluate to).\n",
    "# 4. What do the following expressions evaluate to?\n",
    "(5 > 4) and (3 == 5)\n",
    "\n",
    "not (5 > 4)\n",
    "\n",
    "(5 > 4) or (3 == 5)\n",
    "\n",
    "not ((5 > 4) or (3 == 5))\n",
    "\n",
    "(True and True) and (True == False)\n",
    "\n",
    "(not False) or (not True)\n",
    "\n",
    "# 5. What are the six comparison operators?\n",
    "# 6.What is the difference between the equal to operator and the assignment operator?\n",
    "# 7.Explain what a condition is and where you would use one."
   ]
  },
  {
   "cell_type": "markdown",
   "id": "4646729e",
   "metadata": {},
   "source": [
    "# ANSWERS\n",
    "\n",
    "The two values of the Boolean data type are True and False. They are written with the first letter capitalized.\n",
    "\n",
    "The three Boolean operators are:\n",
    "\n",
    "and: Returns True if both operands are True, otherwise returns False. or: Returns True if at least one of the operands is True, otherwise returns False. not: Returns the opposite Boolean value of the operand (True becomes False and vice versa).\n",
    "\n",
    "and: True and True => True True and False => False False and True => False False and False => False\n",
    "\n",
    "or: True or True => True True or False => True False or True => True False or False => False\n",
    "\n",
    "not: not True => False not False => True\n",
    "\n",
    "Evaluations of the given expressions: (5 > 4) and (3 == 5): False not (5 > 4): False (5 > 4) or (3 == 5): True not ((5 > 4) or (3 == 5)): False (True and True) and (True == False): False (not False) or (not True): True\n",
    "\n",
    "The six comparison operators are:\n",
    "\n",
    "(greater than)\n",
    "\n",
    "< (less than)\n",
    "\n",
    "= (greater than or equal to)\n",
    "\n",
    "<= (less than or equal to) == (equal to) != (not equal to)\n",
    "\n",
    "The equal to operator (==) is used to compare two values for equality. It checks if the values on both sides are the same. The assignment operator (=) is used to assign a value to a variable. It assigns the value on the right side to the variable on the left side.\n",
    "\n",
    "A condition is an expression or statement that evaluates to either True or False. It is used in programming to make decisions or control the flow of execution. Conditions are often used in control structures like if statements and loops. They determine the path the program takes based on certain criteria."
   ]
  },
  {
   "cell_type": "code",
   "execution_count": null,
   "id": "f9d66536",
   "metadata": {},
   "outputs": [],
   "source": []
  }
 ],
 "metadata": {
  "kernelspec": {
   "display_name": "Python 3 (ipykernel)",
   "language": "python",
   "name": "python3"
  },
  "language_info": {
   "codemirror_mode": {
    "name": "ipython",
    "version": 3
   },
   "file_extension": ".py",
   "mimetype": "text/x-python",
   "name": "python",
   "nbconvert_exporter": "python",
   "pygments_lexer": "ipython3",
   "version": "3.10.9"
  }
 },
 "nbformat": 4,
 "nbformat_minor": 5
}
